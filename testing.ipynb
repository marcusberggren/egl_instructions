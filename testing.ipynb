{
 "cells": [
  {
   "cell_type": "code",
   "execution_count": null,
   "metadata": {},
   "outputs": [],
   "source": [
    "import pandas as pd"
   ]
  },
  {
   "cell_type": "code",
   "execution_count": null,
   "metadata": {},
   "outputs": [],
   "source": [
    "bookings_df1 = \"\"\"\n",
    "503200025365\n",
    "503200025390\n",
    "503200025390\n",
    "503200025403\n",
    "503200025705\n",
    "503200025705\n",
    "503200025845\"\"\".split()\n",
    "\n",
    "bookings_df2 = \"\"\"\n",
    "503200025365\n",
    "503200025390.0\n",
    "503200025390\n",
    "503200025403\n",
    "503200025403\n",
    "503200025403\n",
    "503200025705\n",
    "503200025705\n",
    "\"\"\".split()\n",
    "\n",
    "containers_df2 =\"\"\"\n",
    "DFSU6896599\n",
    "EISU9363352\n",
    "TGBU6778406\n",
    "EGHU1003711\n",
    "EGHU1019723\n",
    "RTYH1256789\n",
    "QWER1234567\n",
    "TYUI2536890\n",
    "\"\"\".split()\n",
    "\n",
    "nwt = \"\"\"\n",
    "9990\n",
    "8344\n",
    "14692\n",
    "14040\n",
    "11520\n",
    "12850\n",
    "12720\n",
    "\"\"\".split()\n",
    "nwt2 = \"\"\"\n",
    "13.79\n",
    "12.22\n",
    "18.39\n",
    "17.67\n",
    "15.15\n",
    "16.47\n",
    "\"\"\".split()\n"
   ]
  },
  {
   "cell_type": "code",
   "execution_count": null,
   "metadata": {},
   "outputs": [],
   "source": [
    "df1 = pd.DataFrame({'BOOKING': bookings_df1})\n",
    "df2 = pd.DataFrame({'BOOKING': bookings_df2})\n",
    "\n",
    "df_concat = pd.concat([df1, df2])\n",
    "booking_array = df_concat['BOOKING'].unique()"
   ]
  },
  {
   "cell_type": "markdown",
   "metadata": {},
   "source": [
    "START"
   ]
  },
  {
   "cell_type": "code",
   "execution_count": 1,
   "metadata": {},
   "outputs": [],
   "source": [
    "import xlwings as xw\n",
    "import pandas as pd\n",
    "\n",
    "def egl_si():\n",
    "    file_path = r\"docs\\si\\RDX1 005S SEGOT.xlsm\"\n",
    "    df = pd.read_excel(file_path, sheet_name='Output', header=8, usecols=(\"A,C,E,I:K\"))\n",
    "    df = df.rename(columns={\n",
    "        '  CONTAINER NO. '      : 'CONTAINER',\n",
    "        ' PACKAGE'              : 'PACKAGES',\n",
    "        '    GWT '              : 'NET WEIGHT',\n",
    "        '    B/L NO.  '         : 'BOOKING NUMBER',\n",
    "        ' MRN No / Q-status '   : 'MRN',\n",
    "        ' PARTNER'              : 'MLO'\n",
    "        })\n",
    "    df = df.drop(index=0)\n",
    "    df = df.dropna(axis='index', how='all')\n",
    "    df[['CONTAINER', 'ISO TYPE']] = df['CONTAINER'].str.split(expand=True)\n",
    "    df['BOOKING NUMBER'] = df['BOOKING NUMBER'].str.replace(' ', '')\n",
    "    df.loc[:,'BOOKING NUMBER'] = df['BOOKING NUMBER'].astype(str).replace(r'\\.0*', '')\n",
    "    df = df.reset_index(drop=True)\n",
    "    df = df.sort_values('BOOKING NUMBER')\n",
    "    return df\n",
    "\n",
    "def load_df():\n",
    "    wb = xw.Book(r\"docs\\0114_Bokningsblad_ANINA_23004_SEGOT-ursprunglig.xlsb\")\n",
    "    sheet = wb.sheets('INFO')\n",
    "    data_table = sheet.range('A4').expand()\n",
    "    df = sheet.range(data_table).options(pd.DataFrame, index=False, header=True).value\n",
    "    df = df.loc[(df.MLO == 'EVER') & (df['LOAD STATUS'] != 'MT'), :]\n",
    "    df = df[['BOOKING NUMBER', 'MLO', 'CONTAINER', 'ISO TYPE', 'NET WEIGHT', 'LOAD STATUS', 'VGM', 'OOG', 'REMARK', 'IMDG', 'UNNR', 'MRN', 'TEMP', 'PACKAGES']]\n",
    "    df = pd.DataFrame(df)\n",
    "    df['BOOKING NUMBER'] = df['BOOKING NUMBER'].astype(str)\n",
    "    df['BOOKING NUMBER'] = df['BOOKING NUMBER'].str.replace('.0', '', regex=False)\n",
    "    df.insert(0, 'COMMENT', 'Bokningsblad')\n",
    "    df.loc[:,'BOOKING NUMBER'] = df['BOOKING NUMBER'].astype(str).replace('.0', '', regex=False)\n",
    "    df['MLO'] = None\n",
    "    df['CONTAINER'] = None\n",
    "    df['ISO TYPE'] = None\n",
    "    df['NET WEIGHT'] = None\n",
    "    df['COMMENT'] = \"Bokningsblad\"\n",
    "    df = df.sort_values('BOOKING NUMBER').reset_index()\n",
    "    \n",
    "    return df"
   ]
  },
  {
   "cell_type": "code",
   "execution_count": 2,
   "metadata": {},
   "outputs": [
    {
     "name": "stdout",
     "output_type": "stream",
     "text": [
      "Output\n"
     ]
    }
   ],
   "source": [
    "df1 = load_df()\n",
    "df2 = egl_si()\n",
    "\n",
    "#df1 = df1.rename(columns={'BOOKING NUMBER': 'BOOKING'})\n",
    "#df1['BOOKING'] = df1['BOOKING'].astype(str)\n",
    "#df1['BOOKING'] = df1['BOOKING'].str.replace('.0', '', regex=False)\n",
    "\n",
    "df_concat = pd.concat([df1, df2])\n",
    "booking_array = df_concat['BOOKING NUMBER'].unique()\n",
    "\n",
    "#df1['COMMENT'] = \"Bokningsblad\""
   ]
  },
  {
   "cell_type": "code",
   "execution_count": 3,
   "metadata": {},
   "outputs": [],
   "source": [
    "def booking_count(df1: pd.DataFrame, df2: pd.DataFrame, booking: str) -> int:\n",
    "    df1_count, df2_count = 0, 0\n",
    "\n",
    "    if booking in df1['BOOKING NUMBER'].values:\n",
    "        df1_count = df1['BOOKING NUMBER'].value_counts()[booking]\n",
    "    if booking in df2['BOOKING NUMBER'].values:\n",
    "        df2_count = df2['BOOKING NUMBER'].value_counts()[booking]\n",
    "        \n",
    "    return max(df1_count, df2_count)"
   ]
  },
  {
   "cell_type": "code",
   "execution_count": 4,
   "metadata": {},
   "outputs": [],
   "source": [
    "\n",
    "string = \"\"\n",
    "string += ''.join(f'{booking},' * booking_count(df1, df2, booking) for booking in booking_array)\n",
    "\n",
    "booking_list = \"\"\n",
    "booking_list = string.split(',')\n",
    "\n",
    "booking_list.pop()\n",
    "\n",
    "df4 = pd.DataFrame(columns=df1.columns)\n",
    "df4['BOOKING NUMBER'] = booking_list\n"
   ]
  },
  {
   "cell_type": "code",
   "execution_count": null,
   "metadata": {},
   "outputs": [],
   "source": [
    "len(booking_list)"
   ]
  },
  {
   "cell_type": "code",
   "execution_count": null,
   "metadata": {},
   "outputs": [],
   "source": [
    "booking_list"
   ]
  },
  {
   "cell_type": "code",
   "execution_count": null,
   "metadata": {},
   "outputs": [],
   "source": [
    "df4"
   ]
  },
  {
   "cell_type": "code",
   "execution_count": null,
   "metadata": {},
   "outputs": [],
   "source": [
    "booking_array"
   ]
  },
  {
   "cell_type": "code",
   "execution_count": null,
   "metadata": {},
   "outputs": [],
   "source": [
    "df2"
   ]
  },
  {
   "cell_type": "code",
   "execution_count": null,
   "metadata": {},
   "outputs": [],
   "source": [
    "df4"
   ]
  },
  {
   "cell_type": "code",
   "execution_count": null,
   "metadata": {},
   "outputs": [],
   "source": [
    "df1"
   ]
  },
  {
   "cell_type": "code",
   "execution_count": null,
   "metadata": {},
   "outputs": [],
   "source": [
    "df4['BOOKING NUMBER'] == df1['BOOKING NUMBER'][3]"
   ]
  },
  {
   "cell_type": "code",
   "execution_count": null,
   "metadata": {},
   "outputs": [],
   "source": [
    "df2.columns.drop('BOOKING NUMBER')"
   ]
  },
  {
   "cell_type": "code",
   "execution_count": 13,
   "metadata": {},
   "outputs": [
    {
     "name": "stdout",
     "output_type": "stream",
     "text": [
      "0 503200025365 df1: 503200025365/ 0 df2: 503200025365/ 0\n",
      "1 503200025390 df1: 503200025390/ 1 df2: 503200025390/ 1\n",
      "2 503200025390 df1: 503200025390/ 2 df2: 503200025390/ 2\n",
      "3 5032000254009 df1: 5032000254009/ 3 df2: 503200025403/ 3\n",
      "4 5032000254012 df1: 5032000254012/ 4 df2: 503200025403/ 3\n",
      "5 503200025403 df1: 503200025403/ 5 df2: 503200025403/ 3\n",
      "6 503200025403 df1: 503200025403/ 6 df2: 503200025403/ 4\n",
      "7 503200025403 df1: 503200025403/ 7 df2: 503200025403/ 5\n",
      "8 503200025403 df1: 503200025403/ 8 df2: 503200025403/ 6\n",
      "9 503200025403 df1: 503200025403/ 9 df2: 503200025403/ 7\n",
      "10 503200025403 df1: 503200025403/ 10 df2: 503200025403/ 8\n",
      "11 503200025403 df1: 503200025403/ 11 df2: 503200025403/ 9\n",
      "12 503200025403 df1: 503200025705/ 12 df2: 503200025403/ 10\n",
      "13 503200025403 df1: 503200025705/ 12 df2: 503200025403/ 11\n",
      "14 503200025403 df1: 503200025705/ 12 df2: 503200025403/ 12\n",
      "15 503200025705 df1: 503200025705/ 12 df2: 503200025705/ 13\n",
      "16 503200025705 df1: 503200025705/ 13 df2: 503200025705/ 14\n",
      "17 503200025705 df1: 503200025705/ 14 df2: 503200025705/ 15\n",
      "18 503200025705 df1: 503200025705/ 15 df2: 503200025705/ 16\n",
      "19 503200025705 df1: 503200025705/ 16 df2: 503200025705/ 17\n",
      "20 503200025705 df1: 503200025705/ 17 df2: 503200025705/ 18\n",
      "21 503200025705 df1: 503200025705/ 18 df2: 503200025705/ 19\n",
      "22 503200025705 df1: 503200025705/ 19 df2: 503200025705/ 20\n",
      "23 503200025845 df1: 503200025845/ 20 df2: 503200025845/ 21\n",
      "24 503200025896 df1: 503200025896/ 21 df2: 503200025896/ 22\n",
      "25 503200026001 df1: 503200026001/ 22 df2: 503200026001/ 23\n",
      "26 503200026001 df1: 503200026001/ 23 df2: 503200026001/ 24\n",
      "27 503200026001 df1: 503200026001/ 24 df2: 503200026001/ 25\n",
      "28 503200026248 df1: 503200026248/ 25 df2: 503200026248/ 26\n",
      "29 503200026256 df1: 503200026256/ 26 df2: 503200026256/ 27\n",
      "30 503200026281 df1: 503200026281/ 27 df2: 503200026281/ 28\n",
      "31 503200026302 df1: 503200026302/ 28 df2: 503200026302/ 29\n",
      "32 503200026302 df1: 503200026302/ 29 df2: 503200026302/ 30\n",
      "33 503200026302 df1: 503200026302/ 30 df2: 503200026302/ 31\n",
      "34 503200026302 df1: 503200026302/ 31 df2: 503200026302/ 32\n",
      "35 503200026302 df1: 503200026302/ 32 df2: 503200026302/ 33\n",
      "36 503200026302 df1: 503200026311/ 33 df2: 503200026302/ 34\n",
      "37 503200026302 df1: 503200026311/ 33 df2: 503200026302/ 35\n",
      "38 503200026302 df1: 503200026311/ 33 df2: 503200026302/ 36\n",
      "39 503200026311 df1: 503200026311/ 33 df2: 503200026311/ 37\n",
      "40 503200026311 df1: 503200026311/ 34 df2: 503200026311/ 38\n",
      "41 503200026345 df1: 503200026345/ 35 df2: 503200026345/ 39\n",
      "42 503300000054 df1: 503300000054/ 36 df2: 503300000054/ 40\n",
      "43 503300000054 df1: 503300000054/ 37 df2: 503300000054/ 41\n",
      "44 503300000054 df1: 503300000054/ 38 df2: 503300000054/ 42\n",
      "45 503300000071 df1: 503300000071/ 39 df2: 503300000071/ 43\n",
      "46 503300000119 df1: 503300000119/ 40 df2: 503300000119/ 44\n",
      "47 503300000119 df1: 503300000119/ 41 df2: 503300000119/ 45\n",
      "48 503300000119 df1: 503300000119/ 42 df2: 503300000119/ 46\n",
      "49 503300000186 df1: 503300000186/ 43 df2: 503300000186/ 47\n",
      "50 503300000186 df1: 503300000186/ 44 df2: 503300000186/ 48\n",
      "51 503300000186 df1: 503300000186/ 45 df2: 503300000186/ 49\n",
      "52 503300000186 df1: 503300000186/ 46 df2: 503300000186/ 50\n",
      "53 503300000186 df1: 503300000186/ 47 df2: 503300000186/ 51\n",
      "54 503300000186 df1: 503300000186/ 48 df2: 503300000186/ 52\n",
      "55 503300000186 df1: 503300000186/ 49 df2: 503300000186/ 53\n",
      "56 503300000186 df1: 503300000186/ 50 df2: 503300000186/ 54\n",
      "57 503300000186 df1: 503300000186/ 51 df2: 503300000186/ 55\n",
      "58 503300000186 df1: 503300000186/ 52 df2: 503300000186/ 56\n",
      "59 503300000186 df1: 503300000186/ 53 df2: 503300000186/ 57\n",
      "60 503300000186 df1: 503300000186/ 54 df2: 503300000186/ 58\n",
      "61 503300000186 df1: 503300000186/ 55 df2: 503300000186/ 59\n",
      "62 503300000186 df1: 503300000186/ 56 df2: 503300000186/ 60\n",
      "63 503300000186 df1: 503300000186/ 57 df2: 503300000186/ 61\n",
      "64 503300000186 df1: 503300000186/ 58 df2: 503300000186/ 62\n",
      "65 503300000186 df1: 503300000186/ 59 df2: 503300000186/ 63\n",
      "66 503300000186 df1: 503300000186/ 60 df2: 503300000186/ 64\n",
      "67 503300000186 df1: 503300000186/ 61 df2: 503300000186/ 65\n",
      "68 503300000186 df1: 503300000186/ 62 df2: 503300000186/ 66\n",
      "69 503300000640 df1: 503300000640/ 63 df2: 503300000640/ 67\n",
      "70 503300000674 df1: 503300000674/ 64 df2: 503300000674/ 68\n",
      "71 503300000674 df1: 503300000674/ 65 df2: 503300000674/ 69\n",
      "72 503300000674 df1: 503300000674/ 66 df2: 503300000674/ 70\n",
      "73 503300000674 df1: 503300000674/ 67 df2: 503300000674/ 71\n",
      "74 503300000674 df1: 503300000674/ 68 df2: 503300000674/ 72\n",
      "75 503300000712 df1: 503300000712/ 69 df2: 503300000712/ 73\n",
      "76 510300002157 df1: 510300002157/ 70 df2: 510300002157/ 74\n"
     ]
    }
   ],
   "source": [
    "counter_df1 = 0\n",
    "counter_df2 = 0\n",
    "df1_cols = df1.columns\n",
    "df2_cols = df2.columns.drop('BOOKING NUMBER')\n",
    "\n",
    "for num, booking in enumerate(df4['BOOKING NUMBER']):\n",
    "    print(f\"{num} {booking} df1: {df1['BOOKING NUMBER'][counter_df1]}/ {counter_df1} df2: {df2['BOOKING NUMBER'][counter_df2]}/ {counter_df2}\")\n",
    "    if not counter_df1 == len(df1):\n",
    "        if booking == df1['BOOKING NUMBER'][counter_df1]:\n",
    "            df4.loc[num, 'COMMENT'] = df1['COMMENT'][counter_df1]\n",
    "            counter_df1 += 1\n",
    "\n",
    "    if not counter_df2 == len(df2):\n",
    "        if booking == df2['BOOKING NUMBER'][counter_df2]:\n",
    "            df4.loc[num, df2_cols] = df2.loc[counter_df2, df2_cols]\n",
    "            counter_df2 += 1\n",
    "\n",
    "\n",
    "df4.to_excel('test.xlsx')\n",
    "    \n",
    "\n",
    "\n",
    "\n"
   ]
  },
  {
   "cell_type": "code",
   "execution_count": 15,
   "metadata": {},
   "outputs": [
    {
     "data": {
      "text/html": [
       "<div>\n",
       "<style scoped>\n",
       "    .dataframe tbody tr th:only-of-type {\n",
       "        vertical-align: middle;\n",
       "    }\n",
       "\n",
       "    .dataframe tbody tr th {\n",
       "        vertical-align: top;\n",
       "    }\n",
       "\n",
       "    .dataframe thead th {\n",
       "        text-align: right;\n",
       "    }\n",
       "</style>\n",
       "<table border=\"1\" class=\"dataframe\">\n",
       "  <thead>\n",
       "    <tr style=\"text-align: right;\">\n",
       "      <th></th>\n",
       "      <th>BOOKING</th>\n",
       "    </tr>\n",
       "  </thead>\n",
       "  <tbody>\n",
       "    <tr>\n",
       "      <th>503300000186</th>\n",
       "      <td>[TGBU6778406, EGHU1003711]</td>\n",
       "    </tr>\n",
       "    <tr>\n",
       "      <th>503300000674</th>\n",
       "      <td>[EMCU8909929, TLLU4025385, TGBU4276667]</td>\n",
       "    </tr>\n",
       "  </tbody>\n",
       "</table>\n",
       "</div>"
      ],
      "text/plain": [
       "                                              BOOKING\n",
       "503300000186               [TGBU6778406, EGHU1003711]\n",
       "503300000674  [EMCU8909929, TLLU4025385, TGBU4276667]"
      ]
     },
     "execution_count": 15,
     "metadata": {},
     "output_type": "execute_result"
    }
   ],
   "source": [
    "pd.DataFrame({'BOOKING': {'503300000674': ['EMCU8909929', 'TLLU4025385', 'TGBU4276667'], '503300000186': ['TGBU6778406', 'EGHU1003711']}})"
   ]
  },
  {
   "cell_type": "code",
   "execution_count": null,
   "metadata": {},
   "outputs": [],
   "source": []
  }
 ],
 "metadata": {
  "kernelspec": {
   "display_name": "Python 3.11.0 ('venv')",
   "language": "python",
   "name": "python3"
  },
  "language_info": {
   "codemirror_mode": {
    "name": "ipython",
    "version": 3
   },
   "file_extension": ".py",
   "mimetype": "text/x-python",
   "name": "python",
   "nbconvert_exporter": "python",
   "pygments_lexer": "ipython3",
   "version": "3.11.0"
  },
  "orig_nbformat": 4,
  "vscode": {
   "interpreter": {
    "hash": "1468c6035124722671f726ad5d93848e0f4ba817b32c3689ceb558bec9e0a0fd"
   }
  }
 },
 "nbformat": 4,
 "nbformat_minor": 2
}
