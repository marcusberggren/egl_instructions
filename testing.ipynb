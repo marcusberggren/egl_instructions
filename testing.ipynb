{
 "cells": [
  {
   "cell_type": "code",
   "execution_count": null,
   "metadata": {},
   "outputs": [],
   "source": [
    "import pandas as pd"
   ]
  },
  {
   "cell_type": "code",
   "execution_count": null,
   "metadata": {},
   "outputs": [],
   "source": [
    "bookings_df1 = \"\"\"\n",
    "503200025365\n",
    "503200025390\n",
    "503200025390\n",
    "503200025403\n",
    "503200025705\n",
    "503200025705\n",
    "503200025845\"\"\".split()\n",
    "\n",
    "bookings_df2 = \"\"\"\n",
    "503200025365\n",
    "503200025390.0\n",
    "503200025390\n",
    "503200025403\n",
    "503200025403\n",
    "503200025403\n",
    "503200025705\n",
    "503200025705\n",
    "\"\"\".split()\n",
    "\n",
    "containers_df2 =\"\"\"\n",
    "DFSU6896599\n",
    "EISU9363352\n",
    "TGBU6778406\n",
    "EGHU1003711\n",
    "EGHU1019723\n",
    "RTYH1256789\n",
    "QWER1234567\n",
    "TYUI2536890\n",
    "\"\"\".split()\n",
    "\n",
    "nwt = \"\"\"\n",
    "9990\n",
    "8344\n",
    "14692\n",
    "14040\n",
    "11520\n",
    "12850\n",
    "12720\n",
    "\"\"\".split()\n",
    "nwt2 = \"\"\"\n",
    "13.79\n",
    "12.22\n",
    "18.39\n",
    "17.67\n",
    "15.15\n",
    "16.47\n",
    "\"\"\".split()\n"
   ]
  },
  {
   "cell_type": "code",
   "execution_count": null,
   "metadata": {},
   "outputs": [],
   "source": [
    "df1 = pd.DataFrame({'BOOKING': bookings_df1})\n",
    "df2 = pd.DataFrame({'BOOKING': bookings_df2})\n",
    "\n",
    "df_concat = pd.concat([df1, df2])\n",
    "booking_array = df_concat['BOOKING'].unique()"
   ]
  },
  {
   "cell_type": "markdown",
   "metadata": {},
   "source": [
    "START"
   ]
  },
  {
   "cell_type": "code",
   "execution_count": 8,
   "metadata": {},
   "outputs": [],
   "source": [
    "import xlwings as xw\n",
    "import pandas as pd\n",
    "\n",
    "def egl_si():\n",
    "    file_path = r\"docs\\si\\RDX1 005S SEGOT.xlsm\"\n",
    "    df = pd.read_excel(file_path, sheet_name='Output', header=8, usecols=(\"A,C,E,I:K\"))\n",
    "    df = df.rename(columns={\n",
    "        '  CONTAINER NO. '      : 'CONTAINER',\n",
    "        ' PACKAGE'              : 'PACKAGES',\n",
    "        '    GWT '              : 'NET WEIGHT',\n",
    "        '    B/L NO.  '         : 'BOOKING NUMBER',\n",
    "        ' MRN No / Q-status '   : 'MRN',\n",
    "        ' PARTNER'              : 'MLO'\n",
    "        })\n",
    "    df = df.drop(index=0)\n",
    "    df = df.dropna(axis='index', how='all')\n",
    "    df[['CONTAINER', 'ISO TYPE']] = df['CONTAINER'].str.split(expand=True)\n",
    "    df['BOOKING NUMBER'] = df['BOOKING NUMBER'].str.replace(' ', '')\n",
    "    df.loc[:,'BOOKING NUMBER'] = df['BOOKING NUMBER'].astype(str).replace(r'\\.0*', '')\n",
    "    df = df.reset_index(drop=True)\n",
    "    df = df.sort_values('BOOKING NUMBER').reset_index(drop=True)\n",
    "    return df\n",
    "\n"
   ]
  },
  {
   "cell_type": "code",
   "execution_count": 9,
   "metadata": {},
   "outputs": [
    {
     "name": "stdout",
     "output_type": "stream",
     "text": [
      "Output\n"
     ]
    }
   ],
   "source": [
    "df1 = load_df()\n",
    "df2 = egl_si()\n",
    "\n",
    "#df1 = df1.rename(columns={'BOOKING NUMBER': 'BOOKING'})\n",
    "#df1['BOOKING'] = df1['BOOKING'].astype(str)\n",
    "#df1['BOOKING'] = df1['BOOKING'].str.replace('.0', '', regex=False)\n",
    "\n",
    "df_concat = pd.concat([df1, df2])\n",
    "booking_array = df_concat['BOOKING NUMBER'].unique()\n",
    "\n",
    "#df1['COMMENT'] = \"Bokningsblad\""
   ]
  },
  {
   "cell_type": "code",
   "execution_count": 10,
   "metadata": {},
   "outputs": [
    {
     "data": {
      "text/html": [
       "<div>\n",
       "<style scoped>\n",
       "    .dataframe tbody tr th:only-of-type {\n",
       "        vertical-align: middle;\n",
       "    }\n",
       "\n",
       "    .dataframe tbody tr th {\n",
       "        vertical-align: top;\n",
       "    }\n",
       "\n",
       "    .dataframe thead th {\n",
       "        text-align: right;\n",
       "    }\n",
       "</style>\n",
       "<table border=\"1\" class=\"dataframe\">\n",
       "  <thead>\n",
       "    <tr style=\"text-align: right;\">\n",
       "      <th></th>\n",
       "      <th>CONTAINER</th>\n",
       "      <th>PACKAGES</th>\n",
       "      <th>NET WEIGHT</th>\n",
       "      <th>BOOKING NUMBER</th>\n",
       "      <th>MRN</th>\n",
       "      <th>MLO</th>\n",
       "      <th>ISO TYPE</th>\n",
       "    </tr>\n",
       "  </thead>\n",
       "  <tbody>\n",
       "    <tr>\n",
       "      <th>0</th>\n",
       "      <td>DFSU6896599</td>\n",
       "      <td>16</td>\n",
       "      <td>9990</td>\n",
       "      <td>503200025365</td>\n",
       "      <td>NaN</td>\n",
       "      <td>M</td>\n",
       "      <td>4SH</td>\n",
       "    </tr>\n",
       "    <tr>\n",
       "      <th>1</th>\n",
       "      <td>EISU9363352</td>\n",
       "      <td>252</td>\n",
       "      <td>8344</td>\n",
       "      <td>503200025390</td>\n",
       "      <td>NaN</td>\n",
       "      <td>M</td>\n",
       "      <td>4SH</td>\n",
       "    </tr>\n",
       "    <tr>\n",
       "      <th>2</th>\n",
       "      <td>TGBU6778406</td>\n",
       "      <td>3092</td>\n",
       "      <td>14692</td>\n",
       "      <td>503200025390</td>\n",
       "      <td>NaN</td>\n",
       "      <td>M</td>\n",
       "      <td>4SH</td>\n",
       "    </tr>\n",
       "    <tr>\n",
       "      <th>3</th>\n",
       "      <td>EGHU1003711</td>\n",
       "      <td>2302</td>\n",
       "      <td>14040</td>\n",
       "      <td>503200025403</td>\n",
       "      <td>NaN</td>\n",
       "      <td>M</td>\n",
       "      <td>4SD</td>\n",
       "    </tr>\n",
       "    <tr>\n",
       "      <th>4</th>\n",
       "      <td>EGHU1019723</td>\n",
       "      <td>376</td>\n",
       "      <td>11520</td>\n",
       "      <td>503200025403</td>\n",
       "      <td>NaN</td>\n",
       "      <td>M</td>\n",
       "      <td>4SD</td>\n",
       "    </tr>\n",
       "    <tr>\n",
       "      <th>...</th>\n",
       "      <td>...</td>\n",
       "      <td>...</td>\n",
       "      <td>...</td>\n",
       "      <td>...</td>\n",
       "      <td>...</td>\n",
       "      <td>...</td>\n",
       "      <td>...</td>\n",
       "    </tr>\n",
       "    <tr>\n",
       "      <th>70</th>\n",
       "      <td>EISU2351998</td>\n",
       "      <td>27</td>\n",
       "      <td>27820</td>\n",
       "      <td>503300000674</td>\n",
       "      <td>NaN</td>\n",
       "      <td>E</td>\n",
       "      <td>2SD</td>\n",
       "    </tr>\n",
       "    <tr>\n",
       "      <th>71</th>\n",
       "      <td>EITU0016823</td>\n",
       "      <td>27</td>\n",
       "      <td>27760</td>\n",
       "      <td>503300000674</td>\n",
       "      <td>NaN</td>\n",
       "      <td>E</td>\n",
       "      <td>2SD</td>\n",
       "    </tr>\n",
       "    <tr>\n",
       "      <th>72</th>\n",
       "      <td>EMCU3954397</td>\n",
       "      <td>27</td>\n",
       "      <td>27900</td>\n",
       "      <td>503300000674</td>\n",
       "      <td>NaN</td>\n",
       "      <td>E</td>\n",
       "      <td>2SD</td>\n",
       "    </tr>\n",
       "    <tr>\n",
       "      <th>73</th>\n",
       "      <td>EGHU9825108</td>\n",
       "      <td>11</td>\n",
       "      <td>5700</td>\n",
       "      <td>503300000712</td>\n",
       "      <td>NaN</td>\n",
       "      <td>E</td>\n",
       "      <td>4SH</td>\n",
       "    </tr>\n",
       "    <tr>\n",
       "      <th>74</th>\n",
       "      <td>EISU1833803</td>\n",
       "      <td>828</td>\n",
       "      <td>21280</td>\n",
       "      <td>510300002157</td>\n",
       "      <td>NaN</td>\n",
       "      <td>E</td>\n",
       "      <td>4SD</td>\n",
       "    </tr>\n",
       "  </tbody>\n",
       "</table>\n",
       "<p>75 rows × 7 columns</p>\n",
       "</div>"
      ],
      "text/plain": [
       "      CONTAINER PACKAGES NET WEIGHT BOOKING NUMBER  MRN MLO ISO TYPE\n",
       "0   DFSU6896599       16       9990   503200025365  NaN   M      4SH\n",
       "1   EISU9363352      252       8344   503200025390  NaN   M      4SH\n",
       "2   TGBU6778406     3092      14692   503200025390  NaN   M      4SH\n",
       "3   EGHU1003711     2302      14040   503200025403  NaN   M      4SD\n",
       "4   EGHU1019723      376      11520   503200025403  NaN   M      4SD\n",
       "..          ...      ...        ...            ...  ...  ..      ...\n",
       "70  EISU2351998       27      27820   503300000674  NaN   E      2SD\n",
       "71  EITU0016823       27      27760   503300000674  NaN   E      2SD\n",
       "72  EMCU3954397       27      27900   503300000674  NaN   E      2SD\n",
       "73  EGHU9825108       11       5700   503300000712  NaN   E      4SH\n",
       "74  EISU1833803      828      21280   510300002157  NaN   E      4SD\n",
       "\n",
       "[75 rows x 7 columns]"
      ]
     },
     "execution_count": 10,
     "metadata": {},
     "output_type": "execute_result"
    }
   ],
   "source": [
    "df2"
   ]
  },
  {
   "cell_type": "code",
   "execution_count": 5,
   "metadata": {},
   "outputs": [],
   "source": [
    "def booking_count(df1: pd.DataFrame, df2: pd.DataFrame, booking: str) -> int:\n",
    "    df1_count, df2_count = 0, 0\n",
    "\n",
    "    if booking in df1['BOOKING NUMBER'].values:\n",
    "        df1_count = df1['BOOKING NUMBER'].value_counts()[booking]\n",
    "    if booking in df2['BOOKING NUMBER'].values:\n",
    "        df2_count = df2['BOOKING NUMBER'].value_counts()[booking]\n",
    "        \n",
    "    return max(df1_count, df2_count)"
   ]
  },
  {
   "cell_type": "code",
   "execution_count": 6,
   "metadata": {},
   "outputs": [],
   "source": [
    "\n",
    "string = \"\"\n",
    "string += ''.join(f'{booking},' * booking_count(df1, df2, booking) for booking in booking_array)\n",
    "\n",
    "booking_list = \"\"\n",
    "booking_list = string.split(',')\n",
    "\n",
    "booking_list.pop()\n",
    "\n",
    "df4 = pd.DataFrame(columns=df1.columns)\n",
    "df4['BOOKING NUMBER'] = booking_list\n"
   ]
  },
  {
   "cell_type": "code",
   "execution_count": 7,
   "metadata": {},
   "outputs": [],
   "source": [
    "counter_df1 = 0\n",
    "counter_df2 = 0\n",
    "df1_cols = df1.columns\n",
    "df2_cols = df2.columns.drop('BOOKING NUMBER')\n",
    "\n",
    "for num, booking in enumerate(df4['BOOKING NUMBER']):\n",
    "    \n",
    "    if not counter_df1 == len(df1):\n",
    "        if booking == df1['BOOKING NUMBER'][counter_df1]:\n",
    "            df4['COMMENT'][num] = df1['COMMENT'][counter_df1]\n",
    "            counter_df1 += 1\n",
    "\n",
    "    if not counter_df2 == len(df2):\n",
    "        if booking == df2['BOOKING NUMBER'][counter_df2]:\n",
    "            df4['CONTAINER'][num] = df2['CONTAINER'][counter_df2]\n",
    "            df4['PACKAGES'][num] = df2['PACKAGES'][counter_df2]\n",
    "            df4['NET WEIGHT'][num] = df2['NET WEIGHT'][counter_df2]\n",
    "            df4['MRN'][num] = df2['MRN'][counter_df2]\n",
    "            df4['MLO'][num] = df2['MLO'][counter_df2]\n",
    "            counter_df2 += 1\n",
    "\n",
    "\n",
    "df4.to_excel('test.xlsx')\n",
    "    \n",
    "\n",
    "\n",
    "\n"
   ]
  },
  {
   "cell_type": "code",
   "execution_count": null,
   "metadata": {},
   "outputs": [],
   "source": [
    "pd.DataFrame({'BOOKING': {'503300000674': ['EMCU8909929', 'TLLU4025385', 'TGBU4276667'], '503300000186': ['TGBU6778406', 'EGHU1003711']}})"
   ]
  },
  {
   "cell_type": "code",
   "execution_count": null,
   "metadata": {},
   "outputs": [],
   "source": [
    "df1 = pd.DataFrame({'A': ['509', '509', '113'], 'B': ['TYU', 'TRU', 'OUI'], 'C': [2, 5, 9]})\n",
    "df2 = pd.DataFrame({'A': ['509', '509', '111'], 'AB': ['LA', 'LA', 'LA'] })\n",
    "\n",
    "#result = pd.DataFrame({'A': ['111', '113', '509', '509'], 'B': [None, 'OUI', 'TRU', 'TYU'], 'C': [None, 9, 5, 2], 'AB': ['LA', None, 'LA', 'LA']})"
   ]
  },
  {
   "cell_type": "code",
   "execution_count": null,
   "metadata": {},
   "outputs": [],
   "source": [
    "result = df1.set_index('BOOKING NUMBER').merge(df2.set_index('BOOKING NUMBER'), on='BOOKING NUMBER', how='outer')\n"
   ]
  },
  {
   "cell_type": "code",
   "execution_count": null,
   "metadata": {},
   "outputs": [],
   "source": [
    "df1.columns"
   ]
  },
  {
   "cell_type": "code",
   "execution_count": null,
   "metadata": {},
   "outputs": [],
   "source": [
    "result = df1.set_index('BOOKING NUMBER').merge(df2.set_index('BOOKING NUMBER'), on='BOOKING NUMBER', how='outer')\n"
   ]
  },
  {
   "cell_type": "code",
   "execution_count": null,
   "metadata": {},
   "outputs": [],
   "source": [
    "result.to_excel('test2.xlsx')"
   ]
  },
  {
   "cell_type": "code",
   "execution_count": null,
   "metadata": {},
   "outputs": [],
   "source": [
    "result = df1.set_index('A').merge(df2.set_index('A'), on='A', how='outer')"
   ]
  },
  {
   "cell_type": "code",
   "execution_count": null,
   "metadata": {},
   "outputs": [],
   "source": [
    "result = df1.merge(df2, on='A').groupby('A')['A'].agg('count').max()"
   ]
  },
  {
   "cell_type": "code",
   "execution_count": null,
   "metadata": {},
   "outputs": [],
   "source": [
    "df1 = df1[['COMMENT', 'BOOKING NUMBER']]"
   ]
  },
  {
   "cell_type": "code",
   "execution_count": null,
   "metadata": {},
   "outputs": [],
   "source": [
    "result"
   ]
  },
  {
   "cell_type": "code",
   "execution_count": null,
   "metadata": {},
   "outputs": [],
   "source": [
    "result = pd.concat([df1, df2]).reset_index().groupby(['A'], as_index=False).agg({'B': ', '.join, 'C': 'max', 'AB': ', '.join})"
   ]
  },
  {
   "cell_type": "code",
   "execution_count": null,
   "metadata": {},
   "outputs": [],
   "source": []
  }
 ],
 "metadata": {
  "kernelspec": {
   "display_name": "Python 3.11.0 ('venv')",
   "language": "python",
   "name": "python3"
  },
  "language_info": {
   "codemirror_mode": {
    "name": "ipython",
    "version": 3
   },
   "file_extension": ".py",
   "mimetype": "text/x-python",
   "name": "python",
   "nbconvert_exporter": "python",
   "pygments_lexer": "ipython3",
   "version": "3.11.0"
  },
  "orig_nbformat": 4,
  "vscode": {
   "interpreter": {
    "hash": "1468c6035124722671f726ad5d93848e0f4ba817b32c3689ceb558bec9e0a0fd"
   }
  }
 },
 "nbformat": 4,
 "nbformat_minor": 2
}
