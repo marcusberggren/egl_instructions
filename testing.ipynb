{
 "cells": [
  {
   "cell_type": "code",
   "execution_count": 1,
   "metadata": {},
   "outputs": [],
   "source": [
    "import pandas as pd"
   ]
  },
  {
   "cell_type": "code",
   "execution_count": 2,
   "metadata": {},
   "outputs": [],
   "source": [
    "# Create two dataframes\n",
    "df = pd.DataFrame({'BOOKING_NO': [1, 2, 3, 4], 'COL_A': ['A', 'B', 'C', 'D']})\n",
    "df2 = pd.DataFrame({'BOOKING_NO': [1, 2, 2, 3, 3, 3], 'COL_B': ['X', 'Y', 'Z', 'W', 'X', 'Y']})"
   ]
  },
  {
   "cell_type": "code",
   "execution_count": 23,
   "metadata": {},
   "outputs": [],
   "source": [
    "bookings2 = \"\"\"503200025365\n",
    "503200025390\n",
    "503200025390\n",
    "503200025403\n",
    "503200025403\n",
    "503200025403\n",
    "503200025403\n",
    "50320005403\n",
    "503200025403\n",
    "503200025403\n",
    "503200025403\n",
    "503200025403\n",
    "503200025403\n",
    "503200025705\n",
    "503200025705\n",
    "503200025705\n",
    "503200025705\n",
    "503200025705\n",
    "503200025845\"\"\".split()\n",
    "\n",
    "bookings = \"\"\"503200025365\n",
    "503200025390\n",
    "503200025390\n",
    "503200025403\n",
    "503200025403\n",
    "503200025403\n",
    "503200025403\n",
    "503200025403\n",
    "503200025403\n",
    "503200025403\n",
    "503200025403\n",
    "503200025403\n",
    "503200025403\n",
    "503200025705\n",
    "503200025705\n",
    "503200025705\n",
    "503200025705\n",
    "503200025705\n",
    "503200025705\n",
    "503200025705\n",
    "503200025705\n",
    "503200025845\n",
    "\"\"\".split()\n",
    "\n",
    "containers = \"\"\"DFSU6896599\n",
    "EISU9363352\n",
    "TGBU6778406\n",
    "EGHU1003711\n",
    "EGHU1019723\n",
    "EGHU1066833\n",
    "EISU1737815\n",
    "EISU1851828\n",
    "HMCU1097488\n",
    "HMCU1106698\n",
    "LTIU6026655\n",
    "LTIU6051241\n",
    "TCLU4342545\n",
    "DRYU9308105\n",
    "EGHU8478600\n",
    "EISU9482198\n",
    "EMCU8909929\n",
    "TGBU7137602\n",
    "TLLU4025385\n",
    "\"\"\".split()\n",
    "\n",
    "nwt = \"\"\"9990\n",
    "8344\n",
    "14692\n",
    "14040\n",
    "11520\n",
    "12850\n",
    "12720\n",
    "6472\n",
    "6785\n",
    "14170\n",
    "14740\n",
    "6404\n",
    "13580\n",
    "20464\n",
    "25278\n",
    "25374\n",
    "25969\n",
    "24699\n",
    "24765\n",
    "25619\n",
    "20683\n",
    "21185\n",
    "\"\"\".split()\n",
    "nwt2 = \"\"\"13.79\n",
    "12.22\n",
    "18.39\n",
    "17.67\n",
    "15.15\n",
    "16.47\n",
    "16.35\n",
    "10.19\n",
    "10.50\n",
    "17.88\n",
    "18.68\n",
    "29.79\n",
    "28.37\n",
    "24.89\n",
    "24.70\n",
    "31.00\n",
    "32.50\n",
    "29.80\n",
    "31.85\n",
    "\"\"\".split()\n"
   ]
  },
  {
   "cell_type": "code",
   "execution_count": 24,
   "metadata": {},
   "outputs": [
    {
     "ename": "ValueError",
     "evalue": "All arrays must be of the same length",
     "output_type": "error",
     "traceback": [
      "\u001b[1;31m---------------------------------------------------------------------------\u001b[0m",
      "\u001b[1;31mValueError\u001b[0m                                Traceback (most recent call last)",
      "Cell \u001b[1;32mIn[24], line 2\u001b[0m\n\u001b[0;32m      1\u001b[0m df \u001b[38;5;241m=\u001b[39m pd\u001b[38;5;241m.\u001b[39mDataFrame({\u001b[38;5;124m\"\u001b[39m\u001b[38;5;124mBOOKING_NO\u001b[39m\u001b[38;5;124m\"\u001b[39m: bookings, \u001b[38;5;124m'\u001b[39m\u001b[38;5;124mNET_WEIGHT\u001b[39m\u001b[38;5;124m'\u001b[39m: nwt})\n\u001b[1;32m----> 2\u001b[0m df2 \u001b[38;5;241m=\u001b[39m \u001b[43mpd\u001b[49m\u001b[38;5;241;43m.\u001b[39;49m\u001b[43mDataFrame\u001b[49m\u001b[43m(\u001b[49m\u001b[43m{\u001b[49m\u001b[38;5;124;43m\"\u001b[39;49m\u001b[38;5;124;43mBOOKING_NO\u001b[39;49m\u001b[38;5;124;43m\"\u001b[39;49m\u001b[43m:\u001b[49m\u001b[43m \u001b[49m\u001b[43mbookings2\u001b[49m\u001b[43m,\u001b[49m\u001b[43m \u001b[49m\u001b[38;5;124;43m'\u001b[39;49m\u001b[38;5;124;43mCONTAINER\u001b[39;49m\u001b[38;5;124;43m'\u001b[39;49m\u001b[43m:\u001b[49m\u001b[43m \u001b[49m\u001b[43mcontainers\u001b[49m\u001b[43m,\u001b[49m\u001b[43m \u001b[49m\u001b[38;5;124;43m'\u001b[39;49m\u001b[38;5;124;43mNET_WEIGHT\u001b[39;49m\u001b[38;5;124;43m'\u001b[39;49m\u001b[43m:\u001b[49m\u001b[43m \u001b[49m\u001b[43mnwt2\u001b[49m\u001b[43m}\u001b[49m\u001b[43m)\u001b[49m\n",
      "File \u001b[1;32mc:\\Users\\SWV224\\Documents\\envs\\egl-instructions\\venv\\Lib\\site-packages\\pandas\\core\\frame.py:664\u001b[0m, in \u001b[0;36mDataFrame.__init__\u001b[1;34m(self, data, index, columns, dtype, copy)\u001b[0m\n\u001b[0;32m    658\u001b[0m     mgr \u001b[39m=\u001b[39m \u001b[39mself\u001b[39m\u001b[39m.\u001b[39m_init_mgr(\n\u001b[0;32m    659\u001b[0m         data, axes\u001b[39m=\u001b[39m{\u001b[39m\"\u001b[39m\u001b[39mindex\u001b[39m\u001b[39m\"\u001b[39m: index, \u001b[39m\"\u001b[39m\u001b[39mcolumns\u001b[39m\u001b[39m\"\u001b[39m: columns}, dtype\u001b[39m=\u001b[39mdtype, copy\u001b[39m=\u001b[39mcopy\n\u001b[0;32m    660\u001b[0m     )\n\u001b[0;32m    662\u001b[0m \u001b[39melif\u001b[39;00m \u001b[39misinstance\u001b[39m(data, \u001b[39mdict\u001b[39m):\n\u001b[0;32m    663\u001b[0m     \u001b[39m# GH#38939 de facto copy defaults to False only in non-dict cases\u001b[39;00m\n\u001b[1;32m--> 664\u001b[0m     mgr \u001b[39m=\u001b[39m dict_to_mgr(data, index, columns, dtype\u001b[39m=\u001b[39;49mdtype, copy\u001b[39m=\u001b[39;49mcopy, typ\u001b[39m=\u001b[39;49mmanager)\n\u001b[0;32m    665\u001b[0m \u001b[39melif\u001b[39;00m \u001b[39misinstance\u001b[39m(data, ma\u001b[39m.\u001b[39mMaskedArray):\n\u001b[0;32m    666\u001b[0m     \u001b[39mimport\u001b[39;00m \u001b[39mnumpy\u001b[39;00m\u001b[39m.\u001b[39;00m\u001b[39mma\u001b[39;00m\u001b[39m.\u001b[39;00m\u001b[39mmrecords\u001b[39;00m \u001b[39mas\u001b[39;00m \u001b[39mmrecords\u001b[39;00m\n",
      "File \u001b[1;32mc:\\Users\\SWV224\\Documents\\envs\\egl-instructions\\venv\\Lib\\site-packages\\pandas\\core\\internals\\construction.py:493\u001b[0m, in \u001b[0;36mdict_to_mgr\u001b[1;34m(data, index, columns, dtype, typ, copy)\u001b[0m\n\u001b[0;32m    489\u001b[0m     \u001b[39melse\u001b[39;00m:\n\u001b[0;32m    490\u001b[0m         \u001b[39m# dtype check to exclude e.g. range objects, scalars\u001b[39;00m\n\u001b[0;32m    491\u001b[0m         arrays \u001b[39m=\u001b[39m [x\u001b[39m.\u001b[39mcopy() \u001b[39mif\u001b[39;00m \u001b[39mhasattr\u001b[39m(x, \u001b[39m\"\u001b[39m\u001b[39mdtype\u001b[39m\u001b[39m\"\u001b[39m) \u001b[39melse\u001b[39;00m x \u001b[39mfor\u001b[39;00m x \u001b[39min\u001b[39;00m arrays]\n\u001b[1;32m--> 493\u001b[0m \u001b[39mreturn\u001b[39;00m arrays_to_mgr(arrays, columns, index, dtype\u001b[39m=\u001b[39;49mdtype, typ\u001b[39m=\u001b[39;49mtyp, consolidate\u001b[39m=\u001b[39;49mcopy)\n",
      "File \u001b[1;32mc:\\Users\\SWV224\\Documents\\envs\\egl-instructions\\venv\\Lib\\site-packages\\pandas\\core\\internals\\construction.py:118\u001b[0m, in \u001b[0;36marrays_to_mgr\u001b[1;34m(arrays, columns, index, dtype, verify_integrity, typ, consolidate)\u001b[0m\n\u001b[0;32m    115\u001b[0m \u001b[39mif\u001b[39;00m verify_integrity:\n\u001b[0;32m    116\u001b[0m     \u001b[39m# figure out the index, if necessary\u001b[39;00m\n\u001b[0;32m    117\u001b[0m     \u001b[39mif\u001b[39;00m index \u001b[39mis\u001b[39;00m \u001b[39mNone\u001b[39;00m:\n\u001b[1;32m--> 118\u001b[0m         index \u001b[39m=\u001b[39m _extract_index(arrays)\n\u001b[0;32m    119\u001b[0m     \u001b[39melse\u001b[39;00m:\n\u001b[0;32m    120\u001b[0m         index \u001b[39m=\u001b[39m ensure_index(index)\n",
      "File \u001b[1;32mc:\\Users\\SWV224\\Documents\\envs\\egl-instructions\\venv\\Lib\\site-packages\\pandas\\core\\internals\\construction.py:666\u001b[0m, in \u001b[0;36m_extract_index\u001b[1;34m(data)\u001b[0m\n\u001b[0;32m    664\u001b[0m lengths \u001b[39m=\u001b[39m \u001b[39mlist\u001b[39m(\u001b[39mset\u001b[39m(raw_lengths))\n\u001b[0;32m    665\u001b[0m \u001b[39mif\u001b[39;00m \u001b[39mlen\u001b[39m(lengths) \u001b[39m>\u001b[39m \u001b[39m1\u001b[39m:\n\u001b[1;32m--> 666\u001b[0m     \u001b[39mraise\u001b[39;00m \u001b[39mValueError\u001b[39;00m(\u001b[39m\"\u001b[39m\u001b[39mAll arrays must be of the same length\u001b[39m\u001b[39m\"\u001b[39m)\n\u001b[0;32m    668\u001b[0m \u001b[39mif\u001b[39;00m have_dicts:\n\u001b[0;32m    669\u001b[0m     \u001b[39mraise\u001b[39;00m \u001b[39mValueError\u001b[39;00m(\n\u001b[0;32m    670\u001b[0m         \u001b[39m\"\u001b[39m\u001b[39mMixing dicts with non-Series may lead to ambiguous ordering.\u001b[39m\u001b[39m\"\u001b[39m\n\u001b[0;32m    671\u001b[0m     )\n",
      "\u001b[1;31mValueError\u001b[0m: All arrays must be of the same length"
     ]
    }
   ],
   "source": [
    "df = pd.DataFrame({\"BOOKING_NO\": bookings, 'NET_WEIGHT': nwt})\n",
    "df2 = pd.DataFrame({\"BOOKING_NO\": bookings2, 'CONTAINER': containers, 'NET_WEIGHT': nwt2})"
   ]
  },
  {
   "cell_type": "code",
   "execution_count": 25,
   "metadata": {},
   "outputs": [],
   "source": [
    "merged_df = pd.merge(df, df2, on='BOOKING_NO', how='left')"
   ]
  },
  {
   "cell_type": "code",
   "execution_count": 22,
   "metadata": {},
   "outputs": [],
   "source": [
    "merged_df.to_excel('test.xlsx')"
   ]
  },
  {
   "cell_type": "code",
   "execution_count": null,
   "metadata": {},
   "outputs": [],
   "source": [
    "# Merge the two dataframes based on the 'BOOKING_NO' column\n",
    "merged_df = pd.merge(df, df2, on='BOOKING_NO', how='left')\n",
    "print(merged_df)"
   ]
  },
  {
   "cell_type": "code",
   "execution_count": null,
   "metadata": {},
   "outputs": [],
   "source": [
    "# Group by 'BOOKING_NO' and count the number of instances in DF2\n",
    "grouped = df2.groupby('BOOKING_NO').size().reset_index(name='counts')"
   ]
  },
  {
   "cell_type": "code",
   "execution_count": null,
   "metadata": {},
   "outputs": [],
   "source": [
    "print(grouped)"
   ]
  },
  {
   "cell_type": "code",
   "execution_count": null,
   "metadata": {},
   "outputs": [],
   "source": [
    "for index, row in grouped.iterrows():\n",
    "    print(row['counts'])"
   ]
  },
  {
   "cell_type": "code",
   "execution_count": null,
   "metadata": {},
   "outputs": [],
   "source": [
    "# For each 'BOOKING_NO' with more than one instance, add rows to the merged dataframe\n",
    "for index, row in grouped.iterrows():\n",
    "    if row['counts'] > 1:\n",
    "        for i in range(row['counts'] - 1):\n",
    "            booking_no = row['BOOKING_NO']\n",
    "            data = df2.loc[df2['BOOKING_NO'] == booking_no].iloc[i+1]\n",
    "            merged_df = merged_df.append({'BOOKING_NO': booking_no, 'COL_A': data['COL_B']}, ignore_index=True)\n",
    "            "
   ]
  },
  {
   "cell_type": "code",
   "execution_count": null,
   "metadata": {},
   "outputs": [],
   "source": [
    "print(merged_df)"
   ]
  },
  {
   "cell_type": "code",
   "execution_count": null,
   "metadata": {},
   "outputs": [],
   "source": []
  }
 ],
 "metadata": {
  "kernelspec": {
   "display_name": "Python 3.11.0 ('venv')",
   "language": "python",
   "name": "python3"
  },
  "language_info": {
   "codemirror_mode": {
    "name": "ipython",
    "version": 3
   },
   "file_extension": ".py",
   "mimetype": "text/x-python",
   "name": "python",
   "nbconvert_exporter": "python",
   "pygments_lexer": "ipython3",
   "version": "3.11.0"
  },
  "orig_nbformat": 4,
  "vscode": {
   "interpreter": {
    "hash": "1468c6035124722671f726ad5d93848e0f4ba817b32c3689ceb558bec9e0a0fd"
   }
  }
 },
 "nbformat": 4,
 "nbformat_minor": 2
}
